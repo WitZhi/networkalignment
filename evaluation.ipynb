{
 "cells": [
  {
   "cell_type": "code",
   "execution_count": 2,
   "metadata": {},
   "outputs": [],
   "source": [
    "from evaluation.metrics import get_statistics\n",
    "import numpy as np\n",
    "import utils.graph_utils as graph_utils\n",
    "import json\n",
    "import os\n",
    "from scipy.io import loadmat\n",
    "import numpy as np\n",
    "from networkx.readwrite import json_graph\n"
   ]
  },
  {
   "cell_type": "code",
   "execution_count": 4,
   "metadata": {},
   "outputs": [
    {
     "name": "stdout",
     "output_type": "stream",
     "text": [
      "Dataset info:\n",
      "- Nodes:  3906\n",
      "- Edges:  8164\n",
      "Dataset info:\n",
      "- Nodes:  1118\n",
      "- Edges:  1511\n"
     ]
    }
   ],
   "source": [
    "source_dataset_URL=\"graph_data/douban/online/graphsage/\"\n",
    "target_dataset_URL=\"graph_data/douban/offline/graphsage/\"\n",
    "groundtruth=\"graph_data/douban/dictionaries/groundtruth\"\n",
    "class Dataset:\n",
    "    \"\"\"\n",
    "    this class receives input from graphsage format with predefined folder structure, the data folder must contains these files:\n",
    "    G.json, id2idx.json, features.npy (optional)\n",
    "\n",
    "    Arguments:\n",
    "    - data_dir: Data directory which contains files mentioned above.\n",
    "    \"\"\"\n",
    "\n",
    "    def __init__(self, data_dir):\n",
    "        self.data_dir = data_dir\n",
    "        self._load_id2idx()\n",
    "        self._load_G()\n",
    "        self._load_features()\n",
    "        #构建adj的同时把idx格式的edge存入了edges.edgelist.npy里面\n",
    "        graph_utils.construct_adjacency(self.G, self.id2idx, sparse=False, file_path=self.data_dir + \"/edges.edgelist\")\n",
    "        #self.load_edge_features()\n",
    "        print(\"Dataset info:\")\n",
    "        print(\"- Nodes: \", len(self.G.nodes()))\n",
    "        print(\"- Edges: \", len(self.G.edges()))\n",
    "\n",
    "    def _load_G(self):\n",
    "        G_data = json.load(open(os.path.join(self.data_dir, \"G.json\")))\n",
    "        G_data['links'] = [{'source': self.idx2id[G_data['links'][i]['source']], 'target': self.idx2id[G_data['links'][i]['target']]} for i in range(len(G_data['links']))]\n",
    "        self.G = json_graph.node_link_graph(G_data)\n",
    "\n",
    "\n",
    "    def _load_id2idx(self):\n",
    "        id2idx_file = os.path.join(self.data_dir, 'id2idx.json')\n",
    "        self.id2idx = json.load(open(id2idx_file))\n",
    "        self.idx2id = {v:k for k,v in self.id2idx.items()}\n",
    "\n",
    "\n",
    "    def _load_features(self):\n",
    "        self.features = None\n",
    "        feats_path = os.path.join(self.data_dir, 'feats.npy')\n",
    "        if os.path.isfile(feats_path):\n",
    "            self.features = np.load(feats_path)\n",
    "        else:\n",
    "            self.features = None\n",
    "        return self.features\n",
    "    \n",
    "\n",
    "    def load_edge_features(self):\n",
    "        self.edge_features= None\n",
    "        feats_path = os.path.join(self.data_dir, 'edge_feats.mat')\n",
    "        if os.path.isfile(feats_path):\n",
    "            edge_feats = loadmat(feats_path)['edge_feats']\n",
    "            self.edge_features = np.zeros((len(edge_feats[0]),\n",
    "                                           len(self.G.nodes()),\n",
    "                                           len(self.G.nodes())))\n",
    "            for idx, matrix in enumerate(edge_feats[0]):\n",
    "                self.edge_features[idx] = matrix.toarray()\n",
    "        else:\n",
    "            self.edge_features = None\n",
    "        return self.edge_features\n",
    "\n",
    "    def get_adjacency_matrix(self, sparse=False):\n",
    "        return graph_utils.construct_adjacency(self.G, self.id2idx, sparse=False, file_path=self.data_dir + \"/edges.edgelist\")\n",
    "\n",
    "    def get_nodes_degrees(self):\n",
    "        return graph_utils.build_degrees(self.G, self.id2idx)\n",
    "\n",
    "    def get_nodes_neighbors(self):\n",
    "        return graph_utils.build_neighbors(self.G, self.id2idx)\n",
    "\n",
    "    def get_nodes_clustering(self):\n",
    "        return graph_utils.build_clustering(self.G, self.id2idx)\n",
    "\n",
    "    def get_edges(self):\n",
    "        return graph_utils.get_edges(self.G, self.id2idx)\n",
    "\n",
    "    def check_id2idx(self):\n",
    "        # print(\"Checking format of dataset\")\n",
    "        for i, node in enumerate(self.G.nodes()):\n",
    "            if (self.id2idx[node] != i):\n",
    "                print(\"Failed at node %s\" % str(node))\n",
    "                return False\n",
    "        # print(\"Pass\")\n",
    "        return True\n",
    "\n",
    "source_dataset = Dataset(source_dataset_URL)\n",
    "target_dataset = Dataset(target_dataset_URL)\n",
    "groundtruth = graph_utils.load_gt(groundtruth, source_dataset.id2idx, target_dataset.id2idx, 'dict')"
   ]
  },
  {
   "cell_type": "code",
   "execution_count": 5,
   "metadata": {},
   "outputs": [
    {
     "name": "stdout",
     "output_type": "stream",
     "text": [
      "Accuracy: 0.0000\n",
      "MAP: 0.0060\n",
      "AUC: 0.4963\n",
      "Precision_1: 0.0000\n",
      "Precision_5: 0.0036\n",
      "Precision_10: 0.0107\n"
     ]
    }
   ],
   "source": [
    "S = np.load('../GradAlign_plus-main/S_file.npy')\n",
    "acc, MAP, top5, top10, AUC,top1 = get_statistics(S, groundtruth, use_greedy_match=False, get_all_metric=True)\n",
    "print(\"Accuracy: {:.4f}\".format(acc))\n",
    "print(\"MAP: {:.4f}\".format(MAP))\n",
    "print(\"AUC: {:.4f}\".format(AUC))\n",
    "print(\"Precision_1: {:.4f}\".format(top1))\n",
    "print(\"Precision_5: {:.4f}\".format(top5))\n",
    "print(\"Precision_10: {:.4f}\".format(top10))"
   ]
  },
  {
   "cell_type": "code",
   "execution_count": 13,
   "metadata": {},
   "outputs": [],
   "source": [
    "def top_k(S, k=1):\n",
    "    \"\"\"\n",
    "    S: scores, numpy array of shape (M, N) where M is the number of source nodes,\n",
    "        N is the number of target nodes\n",
    "    k: number of predicted elements to return\n",
    "    \"\"\"\n",
    "    top = np.argsort(-S)[:, :k]\n",
    "    result = np.zeros(S.shape)\n",
    "    for idx, target_elms in enumerate(top):\n",
    "        for elm in target_elms:\n",
    "            result[idx, elm] = 1\n",
    "\n",
    "    return result\n",
    "\n",
    "def compute_precision_k(top_k_matrix, gt):\n",
    "    n_matched = 0\n",
    "    for key, value in gt.items():\n",
    "        #if top_k_matrix[idx1_dict[key], idx2_dict[value]] == 1:\n",
    "        if top_k_matrix[key, value] == 1:\n",
    "            n_matched += 1\n",
    "    return n_matched/len(gt)"
   ]
  },
  {
   "cell_type": "code",
   "execution_count": 22,
   "metadata": {},
   "outputs": [
    {
     "data": {
      "text/plain": [
       "dict"
      ]
     },
     "execution_count": 22,
     "metadata": {},
     "output_type": "execute_result"
    }
   ],
   "source": [
    "type(groundtruth)"
   ]
  },
  {
   "cell_type": "code",
   "execution_count": 14,
   "metadata": {},
   "outputs": [],
   "source": [
    "top_1 = top_k(S, 1)\n",
    "top1_eval = compute_precision_k(top_1, groundtruth)"
   ]
  },
  {
   "cell_type": "code",
   "execution_count": null,
   "metadata": {},
   "outputs": [],
   "source": [
    "top_1 = top_k(S, 1)\n",
    "top_5 = top_k(S, 5)\n",
    "top_10 = top_k(S, 10)\n",
    "\n",
    "top1_eval = compute_precision_k(top_1, groundtruth, idx1_dict, idx2_dict)\n",
    "top5_eval = compute_precision_k(top_5, gt_dict, idx1_dict, idx2_dict)\n",
    "top10_eval = compute_precision_k(top_10, gt_dict, idx1_dict, idx2_dict)\n",
    "\n",
    "print('Success@1 : {:.4f}'.format(top1_eval))\n",
    "print('Success@5 : {:.4f}'.format(top5_eval))\n",
    "print('Success@10 : {:.4f}'.format(top10_eval))"
   ]
  }
 ],
 "metadata": {
  "kernelspec": {
   "display_name": "bowen",
   "language": "python",
   "name": "python3"
  },
  "language_info": {
   "codemirror_mode": {
    "name": "ipython",
    "version": 3
   },
   "file_extension": ".py",
   "mimetype": "text/x-python",
   "name": "python",
   "nbconvert_exporter": "python",
   "pygments_lexer": "ipython3",
   "version": "3.8.16"
  }
 },
 "nbformat": 4,
 "nbformat_minor": 2
}
